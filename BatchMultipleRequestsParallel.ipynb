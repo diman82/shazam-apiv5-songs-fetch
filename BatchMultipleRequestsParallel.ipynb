{
 "cells": [
  {
   "cell_type": "code",
   "execution_count": 1,
   "metadata": {
    "collapsed": true
   },
   "outputs": [
    {
     "ename": "RuntimeError",
     "evalue": "This event loop is already running",
     "output_type": "error",
     "traceback": [
      "\u001B[1;31m---------------------------------------------------------------------------\u001B[0m",
      "\u001B[1;31mRuntimeError\u001B[0m                              Traceback (most recent call last)",
      "\u001B[1;32m<ipython-input-1-f50d5eb2c337>\u001B[0m in \u001B[0;36m<module>\u001B[1;34m\u001B[0m\n\u001B[0;32m     28\u001B[0m \u001B[1;33m\u001B[0m\u001B[0m\n\u001B[0;32m     29\u001B[0m \u001B[0mloop\u001B[0m \u001B[1;33m=\u001B[0m \u001B[0masyncio\u001B[0m\u001B[1;33m.\u001B[0m\u001B[0mget_event_loop\u001B[0m\u001B[1;33m(\u001B[0m\u001B[1;33m)\u001B[0m\u001B[1;33m\u001B[0m\u001B[1;33m\u001B[0m\u001B[0m\n\u001B[1;32m---> 30\u001B[1;33m \u001B[0mloop\u001B[0m\u001B[1;33m.\u001B[0m\u001B[0mrun_until_complete\u001B[0m\u001B[1;33m(\u001B[0m\u001B[0mrun\u001B[0m\u001B[1;33m(\u001B[0m\u001B[0murls\u001B[0m\u001B[1;33m,\u001B[0m \u001B[0mresponses\u001B[0m\u001B[1;33m)\u001B[0m\u001B[1;33m)\u001B[0m\u001B[1;33m\u001B[0m\u001B[1;33m\u001B[0m\u001B[0m\n\u001B[0m\u001B[0;32m     31\u001B[0m \u001B[1;33m\u001B[0m\u001B[0m\n\u001B[0;32m     32\u001B[0m \u001B[1;32mimport\u001B[0m \u001B[0mpickle\u001B[0m\u001B[1;33m\u001B[0m\u001B[1;33m\u001B[0m\u001B[0m\n",
      "\u001B[1;32m~\\miniconda3\\envs\\py38\\lib\\asyncio\\base_events.py\u001B[0m in \u001B[0;36mrun_until_complete\u001B[1;34m(self, future)\u001B[0m\n\u001B[0;32m    590\u001B[0m         \"\"\"\n\u001B[0;32m    591\u001B[0m         \u001B[0mself\u001B[0m\u001B[1;33m.\u001B[0m\u001B[0m_check_closed\u001B[0m\u001B[1;33m(\u001B[0m\u001B[1;33m)\u001B[0m\u001B[1;33m\u001B[0m\u001B[1;33m\u001B[0m\u001B[0m\n\u001B[1;32m--> 592\u001B[1;33m         \u001B[0mself\u001B[0m\u001B[1;33m.\u001B[0m\u001B[0m_check_running\u001B[0m\u001B[1;33m(\u001B[0m\u001B[1;33m)\u001B[0m\u001B[1;33m\u001B[0m\u001B[1;33m\u001B[0m\u001B[0m\n\u001B[0m\u001B[0;32m    593\u001B[0m \u001B[1;33m\u001B[0m\u001B[0m\n\u001B[0;32m    594\u001B[0m         \u001B[0mnew_task\u001B[0m \u001B[1;33m=\u001B[0m \u001B[1;32mnot\u001B[0m \u001B[0mfutures\u001B[0m\u001B[1;33m.\u001B[0m\u001B[0misfuture\u001B[0m\u001B[1;33m(\u001B[0m\u001B[0mfuture\u001B[0m\u001B[1;33m)\u001B[0m\u001B[1;33m\u001B[0m\u001B[1;33m\u001B[0m\u001B[0m\n",
      "\u001B[1;32m~\\miniconda3\\envs\\py38\\lib\\asyncio\\base_events.py\u001B[0m in \u001B[0;36m_check_running\u001B[1;34m(self)\u001B[0m\n\u001B[0;32m    550\u001B[0m     \u001B[1;32mdef\u001B[0m \u001B[0m_check_running\u001B[0m\u001B[1;33m(\u001B[0m\u001B[0mself\u001B[0m\u001B[1;33m)\u001B[0m\u001B[1;33m:\u001B[0m\u001B[1;33m\u001B[0m\u001B[1;33m\u001B[0m\u001B[0m\n\u001B[0;32m    551\u001B[0m         \u001B[1;32mif\u001B[0m \u001B[0mself\u001B[0m\u001B[1;33m.\u001B[0m\u001B[0mis_running\u001B[0m\u001B[1;33m(\u001B[0m\u001B[1;33m)\u001B[0m\u001B[1;33m:\u001B[0m\u001B[1;33m\u001B[0m\u001B[1;33m\u001B[0m\u001B[0m\n\u001B[1;32m--> 552\u001B[1;33m             \u001B[1;32mraise\u001B[0m \u001B[0mRuntimeError\u001B[0m\u001B[1;33m(\u001B[0m\u001B[1;34m'This event loop is already running'\u001B[0m\u001B[1;33m)\u001B[0m\u001B[1;33m\u001B[0m\u001B[1;33m\u001B[0m\u001B[0m\n\u001B[0m\u001B[0;32m    553\u001B[0m         \u001B[1;32mif\u001B[0m \u001B[0mevents\u001B[0m\u001B[1;33m.\u001B[0m\u001B[0m_get_running_loop\u001B[0m\u001B[1;33m(\u001B[0m\u001B[1;33m)\u001B[0m \u001B[1;32mis\u001B[0m \u001B[1;32mnot\u001B[0m \u001B[1;32mNone\u001B[0m\u001B[1;33m:\u001B[0m\u001B[1;33m\u001B[0m\u001B[1;33m\u001B[0m\u001B[0m\n\u001B[0;32m    554\u001B[0m             raise RuntimeError(\n",
      "\u001B[1;31mRuntimeError\u001B[0m: This event loop is already running"
     ]
    }
   ],
   "source": [
    "import asyncio\n",
    "from aiohttp.client import ClientSession\n",
    "\n",
    "\n",
    "async def downloader(session, iter_url, responses):\n",
    "    while True:\n",
    "        try:\n",
    "            url = next(iter_url)\n",
    "        except StopIteration:\n",
    "            return\n",
    "        rsp = await session.get(url)\n",
    "        if not rsp.status == 200:\n",
    "            continue  # < - Or raise error\n",
    "        responses.append(rsp)\n",
    "\n",
    "\n",
    "async def run(urls, responses):\n",
    "    with ClientSession() as session:\n",
    "        iter_url = iter(urls)\n",
    "        await asyncio.gather(*[downloader(session, iter_url, responses) for _ in range(10)])\n",
    "\n",
    "\n",
    "responses = []\n",
    "# import numpy as np\n",
    "# data = np.genfromtxt(\"yourfile.dat\",delimiter=\"\\n\")\n",
    "urls = list(open('urls.txt'))\n",
    "\n",
    "loop = asyncio.get_event_loop()\n",
    "loop.run_until_complete(run(urls, responses))\n",
    "\n",
    "import pickle\n",
    "with open('responses.pkl', 'wb') as output:\n",
    "    pickle.dump(responses, output, pickle.HIGHEST_PROTOCOL)"
   ]
  }
 ],
 "metadata": {
  "kernelspec": {
   "name": "conda-env-py38-py",
   "language": "python",
   "display_name": "Python [conda env:py38] *"
  },
  "language_info": {
   "codemirror_mode": {
    "name": "ipython",
    "version": 2
   },
   "file_extension": ".py",
   "mimetype": "text/x-python",
   "name": "python",
   "nbconvert_exporter": "python",
   "pygments_lexer": "ipython2",
   "version": "2.7.6"
  }
 },
 "nbformat": 4,
 "nbformat_minor": 0
}